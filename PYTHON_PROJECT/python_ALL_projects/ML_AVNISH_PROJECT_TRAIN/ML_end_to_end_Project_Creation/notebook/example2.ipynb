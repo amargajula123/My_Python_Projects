{
 "cells": [
  {
   "cell_type": "code",
   "execution_count": null,
   "metadata": {},
   "outputs": [],
   "source": [
    "url= 'https://raw.githubusercontent.com/ageron/handson-ml/master/datasets/housing/housing.tgz'"
   ]
  },
  {
   "cell_type": "code",
   "execution_count": null,
   "metadata": {},
   "outputs": [],
   "source": [
    "import os"
   ]
  },
  {
   "cell_type": "code",
   "execution_count": null,
   "metadata": {},
   "outputs": [],
   "source": [
    "os.path.basename(url)"
   ]
  },
  {
   "cell_type": "code",
   "execution_count": null,
   "metadata": {},
   "outputs": [],
   "source": [
    "file_path=r\"D:\\Project\\machine_learning_project\\config\""
   ]
  },
  {
   "cell_type": "code",
   "execution_count": null,
   "metadata": {},
   "outputs": [],
   "source": [
    "os.listdir(file_path)[0]"
   ]
  },
  {
   "cell_type": "code",
   "execution_count": null,
   "metadata": {},
   "outputs": [],
   "source": [
    "## Data Ingestion"
   ]
  },
  {
   "cell_type": "code",
   "execution_count": null,
   "metadata": {},
   "outputs": [],
   "source": [
    "import pandas as pd"
   ]
  },
  {
   "cell_type": "code",
   "execution_count": null,
   "metadata": {},
   "outputs": [],
   "source": [
    "csv_file_path=r\"D:\\Project\\machine_learning_project\\housing\\artifact\\data_ingestion\\2022-06-26-11-58-02\\raw_data\\housing.csv\"\n",
    "housing_data_frame=pd.read_csv(csv_file_path)"
   ]
  },
  {
   "cell_type": "code",
   "execution_count": null,
   "metadata": {},
   "outputs": [],
   "source": [
    "import matplotlib.pyplot as plt"
   ]
  },
  {
   "cell_type": "code",
   "execution_count": null,
   "metadata": {},
   "outputs": [],
   "source": [
    "housing_data_frame[[\"median_income\"]].plot(kind=\"hist\")"
   ]
  },
  {
   "cell_type": "code",
   "execution_count": null,
   "metadata": {},
   "outputs": [],
   "source": [
    "import numpy as np"
   ]
  },
  {
   "cell_type": "code",
   "execution_count": null,
   "metadata": {},
   "outputs": [],
   "source": [
    "housing_data_frame[\"income_cat\"] = pd.cut(\n",
    "                housing_data_frame[\"median_income\"],\n",
    "                bins=[0.0, 1.5, 3.0, 4.5, 6.0, np.inf],\n",
    "                labels=[1,2,3,4,5]\n",
    "            )"
   ]
  },
  {
   "cell_type": "code",
   "execution_count": null,
   "metadata": {},
   "outputs": [],
   "source": [
    "plt.pie(housing_data_frame.income_cat.value_counts(),labels=housing_data_frame.income_cat.value_counts().index)\n",
    "plt.show()"
   ]
  },
  {
   "cell_type": "code",
   "execution_count": null,
   "metadata": {},
   "outputs": [],
   "source": [
    "from sklearn.model_selection import StratifiedShuffleSplit"
   ]
  },
  {
   "cell_type": "code",
   "execution_count": null,
   "metadata": {},
   "outputs": [],
   "source": [
    "split = StratifiedShuffleSplit(n_splits=1, test_size=0.2, random_state=42)"
   ]
  },
  {
   "cell_type": "code",
   "execution_count": null,
   "metadata": {},
   "outputs": [],
   "source": [
    "for train_ix,test_ix in split.split(housing_data_frame, housing_data_frame[\"income_cat\"]):\n",
    "    print(train_ix,test_ix)"
   ]
  },
  {
   "cell_type": "code",
   "execution_count": null,
   "metadata": {},
   "outputs": [],
   "source": [
    "train_df=housing_data_frame.loc[train_ix]"
   ]
  },
  {
   "cell_type": "code",
   "execution_count": null,
   "metadata": {},
   "outputs": [],
   "source": [
    "housing_data_frame.shape"
   ]
  },
  {
   "cell_type": "code",
   "execution_count": null,
   "metadata": {},
   "outputs": [],
   "source": [
    "train_df.shape"
   ]
  },
  {
   "cell_type": "code",
   "execution_count": null,
   "metadata": {},
   "outputs": [],
   "source": [
    "test_df=housing_data_frame.loc[test_ix]"
   ]
  },
  {
   "cell_type": "code",
   "execution_count": null,
   "metadata": {},
   "outputs": [],
   "source": [
    "test_df.shape"
   ]
  },
  {
   "cell_type": "code",
   "execution_count": null,
   "metadata": {},
   "outputs": [],
   "source": [
    "plt.pie(train_df.income_cat.value_counts(),labels=train_df.income_cat.value_counts().index)\n",
    "plt.show()"
   ]
  },
  {
   "cell_type": "code",
   "execution_count": null,
   "metadata": {},
   "outputs": [],
   "source": [
    "plt.pie(test_df.income_cat.value_counts(),labels=test_df.income_cat.value_counts().index)\n",
    "plt.show()"
   ]
  },
  {
   "cell_type": "code",
   "execution_count": null,
   "metadata": {},
   "outputs": [],
   "source": [
    "housing_data_frame.dtypes.index,housing_data_frame.dtypes.values"
   ]
  },
  {
   "cell_type": "code",
   "execution_count": null,
   "metadata": {},
   "outputs": [],
   "source": [
    "data_type = list(map(lambda x:str(x).replace(\"dtype('\",\"\").replace(\"')\",\"\") ,housing_data_frame.dtypes.values))"
   ]
  },
  {
   "cell_type": "code",
   "execution_count": null,
   "metadata": {},
   "outputs": [],
   "source": [
    "column=housing_data_frame.columns"
   ]
  },
  {
   "cell_type": "code",
   "execution_count": null,
   "metadata": {},
   "outputs": [],
   "source": [
    "dict(zip(column,data_type))"
   ]
  },
  {
   "cell_type": "code",
   "execution_count": null,
   "metadata": {},
   "outputs": [],
   "source": [
    "ML_AVNISH_PROJECT_TRAIN = [1,5+7j]"
   ]
  },
  {
   "cell_type": "code",
   "execution_count": null,
   "metadata": {},
   "outputs": [],
   "source": [
    "from cmath import log\n",
    "import importlib\n",
    "from pyexpat import model\n",
    "import numpy as np\n",
    "import yaml\n",
    "\n",
    "import os\n",
    "import sys\n",
    "\n",
    "from collections import namedtuple\n",
    "from typing import List\n",
    "from sklearn.metrics import r2_score,mean_squared_error"
   ]
  },
  {
   "cell_type": "code",
   "execution_count": null,
   "metadata": {},
   "outputs": [],
   "source": [
    "InitializedModelDetail = namedtuple(\"InitializedModelDetail\",[\"model_serial_number\", \n",
    "                                                              \"model\",\n",
    "                                                              \"param_grid_search\",\n",
    "                                                              \"model_name\"])\n",
    "\n",
    "\n",
    "GridSearchedBestModel = namedtuple(\"GridSearchedBestModel\", [\"model_serial_number\",\n",
    "                                                             \"model\",\n",
    "                                                             \"best_model\",\n",
    "                                                             \"best_parameters\",\n",
    "                                                             \"best_score\",\n",
    "                                                             ])\n",
    "\n",
    "BestModel = namedtuple(\"BestModel\", [\"model_serial_number\",\n",
    "                                     \"model\",\n",
    "                                     \"best_model\",\n",
    "                                     \"best_parameters\",\n",
    "                                     \"best_score\", ])\n",
    "\n",
    "MetricInfoArtifact = namedtuple(\"MetricInfoArtifact\",[\"model_name\", \n",
    "                                                      \"model_object\", \n",
    "                                                      \"train_rmse\", \n",
    "                                                      \"test_rmse\", \n",
    "                                                      \"train_accuracy\",\n",
    "                                                      \"test_accuracy\", \n",
    "                                                      \"model_accuracy\", \n",
    "                                                      \"index_number\"])"
   ]
  },
  {
   "cell_type": "code",
   "execution_count": null,
   "metadata": {},
   "outputs": [],
   "source": [
    "GRID_SEARCH_KEY = 'grid_search'\n",
    "MODULE_KEY = 'module'\n",
    "CLASS_KEY = 'class'\n",
    "PARAM_KEY = 'params'\n",
    "MODEL_SELECTION_KEY = 'model_selection'\n",
    "SEARCH_PARAM_GRID_KEY = \"search_param_grid\""
   ]
  },
  {
   "cell_type": "code",
   "execution_count": null,
   "metadata": {},
   "outputs": [],
   "source": [
    "def evaluate_classification_model(model_list: list, X_train:np.ndarray, y_train:np.ndarray, X_test:np.ndarray, y_test:np.ndarray, base_accuracy:float=0.6)->MetricInfoArtifact:\n",
    "    pass\n",
    "\n",
    "\n",
    "def evaluate_regression_model(model_list: list, X_train:np.ndarray, y_train:np.ndarray, X_test:np.ndarray, y_test:np.ndarray, base_accuracy:float=0.6) -> MetricInfoArtifact:\n",
    "    \"\"\"\n",
    "    Description:\n",
    "    This function compare multiple regression model return best model\n",
    "\n",
    "    Params:\n",
    "    model_list: List of model\n",
    "    X_train: Training dataset input feature\n",
    "    y_train: Training dataset target feature\n",
    "    X_test: Testing dataset input feature\n",
    "    y_test: Testing dataset input feature\n",
    "\n",
    "    return\n",
    "    It retured a named tuple\n",
    "    \n",
    "    MetricInfoArtifact = namedtuple(\"MetricInfo\",\n",
    "                                [\"model_name\", \"model_object\", \"train_rmse\", \"test_rmse\", \"train_accuracy\",\n",
    "                                 \"test_accuracy\", \"model_accuracy\", \"index_number\"])\n",
    "\n",
    "    \"\"\"\n",
    "    try:\n",
    "        \n",
    "    \n",
    "        index_number = 0\n",
    "        metric_info_artifact = None\n",
    "        for model in model_list:\n",
    "            model_name = str(model)  #getting model name based on model object\n",
    "            #logging.info(f\"{'>>'*30}Started evaluating model: [{type(model).__name__}] {'<<'*30}\")\n",
    "            \n",
    "            #Getting prediction for training and testing dataset\n",
    "            y_train_pred = model.predict(X_train)\n",
    "            y_test_pred = model.predict(X_test)\n",
    "\n",
    "            #Calculating r squared score on training and testing dataset\n",
    "            train_acc = r2_score(y_train, y_train_pred)\n",
    "            test_acc = r2_score(y_test, y_test_pred)\n",
    "            \n",
    "            #Calculating mean squared error on training and testing dataset\n",
    "            train_rmse = np.sqrt(mean_squared_error(y_train, y_train_pred))\n",
    "            test_rmse = np.sqrt(mean_squared_error(y_test, y_test_pred))\n",
    "\n",
    "            # Calculating harmonic mean of train_accuracy and test_accuracy\n",
    "            model_accuracy = (2 * (train_acc * test_acc)) / (train_acc + test_acc)\n",
    "            diff_test_train_acc = abs(test_acc - train_acc)\n",
    "            \n",
    "            #logging all important metric\n",
    "            #logging.info(f\"{'>>'*30} Score {'<<'*30}\")\n",
    "            #logging.info(f\"Train Score\\t\\t Test Score\\t\\t Average Score\")\n",
    "            #logging.info(f\"{train_acc}\\t\\t {test_acc}\\t\\t{model_accuracy}\")\n",
    "\n",
    "            #logging.info(f\"{'>>'*30} Loss {'<<'*30}\")\n",
    "            #logging.info(f\"Diff test train accuracy: [{diff_test_train_acc}].\") \n",
    "            #logging.info(f\"Train root mean squared error: [{train_rmse}].\")\n",
    "            #logging.info(f\"Test root mean squared error: [{test_rmse}].\")\n",
    "\n",
    "\n",
    "            #if model accuracy is greater than base accuracy and train and test score is within certain thershold\n",
    "            #we will accept that model as accepted model\n",
    "            if model_accuracy >= base_accuracy and diff_test_train_acc < 0.05:\n",
    "                base_accuracy = model_accuracy\n",
    "                metric_info_artifact = MetricInfoArtifact(model_name=model_name,\n",
    "                                                        model_object=model,\n",
    "                                                        train_rmse=train_rmse,\n",
    "                                                        test_rmse=test_rmse,\n",
    "                                                        train_accuracy=train_acc,\n",
    "                                                        test_accuracy=test_acc,\n",
    "                                                        model_accuracy=model_accuracy,\n",
    "                                                        index_number=index_number)\n",
    "\n",
    "                #logging.info(f\"Acceptable model found {metric_info_artifact}. \")\n",
    "            index_number += 1\n",
    "        if metric_info_artifact is None:\n",
    "            logging.info(f\"No model found with higher accuracy than base accuracy\")\n",
    "        return metric_info_artifact\n",
    "    \n",
    "    except Exception as e:\n",
    "        print(e)\n",
    "\n",
    "\n",
    "def get_sample_model_config_yaml_file(export_dir: str):\n",
    "    try:\n",
    "        model_config = {\n",
    "            GRID_SEARCH_KEY: {\n",
    "                MODULE_KEY: \"sklearn.model_selection\",\n",
    "                CLASS_KEY: \"GridSearchCV\",\n",
    "                PARAM_KEY: {\n",
    "                    \"cv\": 3,\n",
    "                    \"verbose\": 1\n",
    "                }\n",
    "\n",
    "            },\n",
    "            MODEL_SELECTION_KEY: {\n",
    "                \"module_0\": {\n",
    "                    MODULE_KEY: \"module_of_model\",\n",
    "                    CLASS_KEY: \"ModelClassName\",\n",
    "                    PARAM_KEY:\n",
    "                        {\"param_name1\": \"value1\",\n",
    "                         \"param_name2\": \"value2\",\n",
    "                         },\n",
    "                    SEARCH_PARAM_GRID_KEY: {\n",
    "                        \"param_name\": ['param_value_1', 'param_value_2']\n",
    "                    }\n",
    "\n",
    "                },\n",
    "            }\n",
    "        }\n",
    "        os.makedirs(export_dir, exist_ok=True)\n",
    "        export_file_path = os.path.join(export_dir, \"model.yaml\")\n",
    "        with open(export_file_path, 'w') as file:\n",
    "            yaml.dump(model_config, file)\n",
    "        return export_file_path\n",
    "    except Exception as e:\n",
    "        print(e)\n",
    "\n",
    "\n",
    "class ModelFactory:\n",
    "    def __init__(self, model_config_path: str = None,):\n",
    "        try:\n",
    "            self.config: dict = ModelFactory.read_params(model_config_path)\n",
    "\n",
    "            self.grid_search_cv_module: str = self.config[GRID_SEARCH_KEY][MODULE_KEY]\n",
    "            self.grid_search_class_name: str = self.config[GRID_SEARCH_KEY][CLASS_KEY]\n",
    "            self.grid_search_property_data: dict = dict(self.config[GRID_SEARCH_KEY][PARAM_KEY])\n",
    "\n",
    "            self.models_initialization_config: dict = dict(self.config[MODEL_SELECTION_KEY])\n",
    "\n",
    "            self.initialized_model_list = None\n",
    "            self.grid_searched_best_model_list = None\n",
    "\n",
    "        except Exception as e:\n",
    "            print(e)\n",
    "\n",
    "    @staticmethod\n",
    "    def update_property_of_class(instance_ref:object, property_data: dict):\n",
    "        try:\n",
    "            if not isinstance(property_data, dict):\n",
    "                raise Exception(\"property_data parameter required to dictionary\")\n",
    "            print(property_data)\n",
    "            for key, value in property_data.items():\n",
    "                logging.info(f\"Executing:$ {str(instance_ref)}.{key}={value}\")\n",
    "                setattr(instance_ref, key, value)\n",
    "            return instance_ref\n",
    "        except Exception as e:\n",
    "            print(e)\n",
    "    @staticmethod\n",
    "    def read_params(config_path: str) -> dict:\n",
    "        try:\n",
    "            with open(config_path) as yaml_file:\n",
    "                config:dict = yaml.safe_load(yaml_file)\n",
    "            return config\n",
    "        except Exception as e:\n",
    "            print(e)\n",
    "\n",
    "    @staticmethod\n",
    "    def class_for_name(module_name:str, class_name:str):\n",
    "        try:\n",
    "            # load the module, will raise ImportError if module cannot be loaded\n",
    "            module = importlib.import_module(module_name)\n",
    "            # get the class, will raise AttributeError if class cannot be found\n",
    "            logging.info(f\"Executing command: from {module} import {class_name}\")\n",
    "            class_ref = getattr(module, class_name)\n",
    "            return class_ref\n",
    "        except Exception as e:\n",
    "            print(e)\n",
    "    def execute_grid_search_operation(self, initialized_model: InitializedModelDetail, input_feature,\n",
    "                                      output_feature) -> GridSearchedBestModel:\n",
    "        try:\n",
    "            # instantiating GridSearchCV class\n",
    "            \n",
    "           \n",
    "            grid_search_cv_ref = ModelFactory.class_for_name(module_name=self.grid_search_cv_module,\n",
    "                                                             class_name=self.grid_search_class_name\n",
    "                                                             )\n",
    "\n",
    "            grid_search_cv = grid_search_cv_ref(estimator=initialized_model.model,\n",
    "                                                param_grid=initialized_model.param_grid_search)\n",
    "            grid_search_cv = ModelFactory.update_property_of_class(grid_search_cv,\n",
    "                                                                   self.grid_search_property_data)\n",
    "\n",
    "            \n",
    "            message = f'{\">>\"* 30} f\"Training {type(initialized_model.model).__name__} Started.\" {\"<<\"*30}'\n",
    "            #logging.info(message)\n",
    "            grid_search_cv.fit(input_feature, output_feature)\n",
    "            message = f'{\">>\"* 30} f\"Training {type(initialized_model.model).__name__}\" completed {\"<<\"*30}'\n",
    "            \n",
    "            grid_searched_best_model = GridSearchedBestModel(model_serial_number=initialized_model.model_serial_number,\n",
    "                                                             model=initialized_model.model,\n",
    "                                                             best_model=grid_search_cv.best_estimator_,\n",
    "                                                             best_parameters=grid_search_cv.best_params_,\n",
    "                                                             best_score=grid_search_cv.best_score_\n",
    "                                                             )\n",
    "            \n",
    "            return grid_searched_best_model\n",
    "        except Exception as e:\n",
    "            print(e)\n",
    "\n",
    "    def get_initialized_model_list(self) -> List[InitializedModelDetail]:\n",
    "        \"\"\"\n",
    "        This function will return a list of model details.\n",
    "        return List[ModelDetail]\n",
    "        \"\"\"\n",
    "        try:\n",
    "            initialized_model_list = []\n",
    "            for model_serial_number in self.models_initialization_config.keys():\n",
    "\n",
    "                model_initialization_config = self.models_initialization_config[model_serial_number]\n",
    "                model_obj_ref = ModelFactory.class_for_name(module_name=model_initialization_config[MODULE_KEY],\n",
    "                                                            class_name=model_initialization_config[CLASS_KEY]\n",
    "                                                            )\n",
    "                model = model_obj_ref()\n",
    "                \n",
    "                if PARAM_KEY in model_initialization_config:\n",
    "                    model_obj_property_data = dict(model_initialization_config[PARAM_KEY])\n",
    "                    model = ModelFactory.update_property_of_class(instance_ref=model,\n",
    "                                                                  property_data=model_obj_property_data)\n",
    "\n",
    "                param_grid_search = model_initialization_config[SEARCH_PARAM_GRID_KEY]\n",
    "                model_name = f\"{model_initialization_config[MODULE_KEY]}.{model_initialization_config[CLASS_KEY]}\"\n",
    "\n",
    "                model_initialization_config = InitializedModelDetail(model_serial_number=model_serial_number,\n",
    "                                                                     model=model,\n",
    "                                                                     param_grid_search=param_grid_search,\n",
    "                                                                     model_name=model_name\n",
    "                                                                     )\n",
    "\n",
    "                initialized_model_list.append(model_initialization_config)\n",
    "\n",
    "            self.initialized_model_list = initialized_model_list\n",
    "            return self.initialized_model_list\n",
    "        except Exception as e:\n",
    "            print(e)\n",
    "\n",
    "    def initiate_best_parameter_search_for_initialized_model(self, initialized_model: InitializedModelDetail,\n",
    "                                                             input_feature,\n",
    "                                                             output_feature) -> GridSearchedBestModel:\n",
    "        try:\n",
    "            return self.execute_grid_search_operation(initialized_model=initialized_model,\n",
    "                                                      input_feature=input_feature,\n",
    "                                                      output_feature=output_feature)\n",
    "        except Exception as e:\n",
    "            print(e)\n",
    "    def initiate_best_parameter_search_for_initialized_models(self,\n",
    "                                                              initialized_model_list: List[InitializedModelDetail],\n",
    "                                                              input_feature,\n",
    "                                                              output_feature) -> List[GridSearchedBestModel]:\n",
    "\n",
    "        try:\n",
    "            self.grid_searched_best_model_list = []\n",
    "            for initialized_model_list in initialized_model_list:\n",
    "                grid_searched_best_model = self.initiate_best_parameter_search_for_initialized_model(\n",
    "                    initialized_model=initialized_model_list,\n",
    "                    input_feature=input_feature,\n",
    "                    output_feature=output_feature\n",
    "                )\n",
    "                self.grid_searched_best_model_list.append(grid_searched_best_model)\n",
    "            return self.grid_searched_best_model_list\n",
    "        except Exception as e:\n",
    "            print(e)\n",
    "\n",
    "    @staticmethod\n",
    "    def get_model_detail(model_details: List[InitializedModelDetail],\n",
    "                         model_serial_number: str) -> InitializedModelDetail:\n",
    "        \"\"\"\n",
    "        This function return ModelDetail\n",
    "        \"\"\"\n",
    "        try:\n",
    "            for model_data in model_details:\n",
    "                if model_data.model_serial_number == model_serial_number:\n",
    "                    return model_data\n",
    "        except Exception as e:\n",
    "            print(e)\n",
    "\n",
    "    @staticmethod\n",
    "    def get_best_model_from_grid_searched_best_model_list(grid_searched_best_model_list: List[GridSearchedBestModel],\n",
    "                                                          base_accuracy=0.6\n",
    "                                                          ) -> BestModel:\n",
    "        try:\n",
    "            best_model = None\n",
    "            for grid_searched_best_model in grid_searched_best_model_list:\n",
    "                if base_accuracy < grid_searched_best_model.best_score:\n",
    "                    logging.info(f\"Acceptable model found:{grid_searched_best_model}\")\n",
    "                    base_accuracy = grid_searched_best_model.best_score\n",
    "\n",
    "                    best_model = grid_searched_best_model\n",
    "            if not best_model:\n",
    "                raise Exception(f\"None of Model has base accuracy: {base_accuracy}\")\n",
    "            #logging.info(f\"Best model: {best_model}\")\n",
    "            return best_model\n",
    "        except Exception as e:\n",
    "            print(e)\n",
    "\n",
    "    def get_best_model(self, X, y,base_accuracy=0.6) -> BestModel:\n",
    "        try:\n",
    "            #logging.info(\"Started Initializing model from config file\")\n",
    "            initialized_model_list = self.get_initialized_model_list()\n",
    "            #logging.info(f\"Initialized model: {initialized_model_list}\")\n",
    "            grid_searched_best_model_list = self.initiate_best_parameter_search_for_initialized_models(\n",
    "                initialized_model_list=initialized_model_list,\n",
    "                input_feature=X,\n",
    "                output_feature=y\n",
    "            )\n",
    "            return ModelFactory.get_best_model_from_grid_searched_best_model_list(grid_searched_best_model_list,\n",
    "                                                                                  base_accuracy=base_accuracy)\n",
    "        except Exception as e:\n",
    "            print(e)"
   ]
  },
  {
   "cell_type": "code",
   "execution_count": null,
   "metadata": {},
   "outputs": [],
   "source": [
    "class ModelFactory:\n",
    "    def __init__(self, model_config_path: str = None,):\n",
    "        try:\n",
    "            self.config: dict = ModelFactory.read_params(model_config_path)\n",
    "\n",
    "            self.grid_search_cv_module: str = self.config[GRID_SEARCH_KEY][MODULE_KEY]\n",
    "            self.grid_search_class_name: str = self.config[GRID_SEARCH_KEY][CLASS_KEY]\n",
    "            self.grid_search_property_data: dict = dict(self.config[GRID_SEARCH_KEY][PARAM_KEY])\n",
    "            self.models_initialization_config: dict = dict(self.config[MODEL_SELECTION_KEY])\n",
    "\n",
    "            self.initialized_model_list = None\n",
    "            self.grid_searched_best_model_list = None\n",
    "\n",
    "        except Exception as e:\n",
    "            print(e)\n",
    "            \n",
    "    @staticmethod\n",
    "    def read_params(config_path: str) -> dict:\n",
    "        try:\n",
    "            with open(config_path) as yaml_file:\n",
    "                config:dict = yaml.safe_load(yaml_file)\n",
    "            return config\n",
    "        except Exception as e:\n",
    "            print(e)\n",
    "\n",
    "    "
   ]
  },
  {
   "cell_type": "code",
   "execution_count": null,
   "metadata": {},
   "outputs": [],
   "source": [
    "model_config_path = r\"C:\\Users\\gajula Amar\\python_ALL_projects\\ML_AVNISH_PROJECT_TRAIN\\ML_end_to_end_Project_Creation\\notebook\\config\\model.yaml\"\n",
    "mode_obj = ModelFactory(model_config_path=model_config_path)"
   ]
  },
  {
   "cell_type": "code",
   "execution_count": null,
   "metadata": {},
   "outputs": [],
   "source": [
    "mode_obj = ModelFactory(model_config_path=model_config_path)"
   ]
  },
  {
   "cell_type": "code",
   "execution_count": null,
   "metadata": {},
   "outputs": [],
   "source": [
    "mode_obj.read_params(config_path=model_config_path)"
   ]
  },
  {
   "cell_type": "code",
   "execution_count": null,
   "metadata": {},
   "outputs": [],
   "source": [
    "mode_obj.grid_search_property_data"
   ]
  },
  {
   "cell_type": "code",
   "execution_count": null,
   "metadata": {},
   "outputs": [],
   "source": [
    "mode_obj.models_initialization_config"
   ]
  },
  {
   "cell_type": "code",
   "execution_count": null,
   "metadata": {},
   "outputs": [],
   "source": [
    "model_serial_number =mode_obj.models_initialization_config.keys()\n",
    "type(model_serial_number)"
   ]
  },
  {
   "cell_type": "code",
   "execution_count": null,
   "metadata": {},
   "outputs": [],
   "source": [
    "for i in  model_serial_number:\n",
    "    print(i)"
   ]
  },
  {
   "cell_type": "code",
   "execution_count": null,
   "metadata": {},
   "outputs": [],
   "source": [
    "for i in  model_serial_number:\n",
    "    print(mode_obj.models_initialization_config[i])"
   ]
  },
  {
   "cell_type": "code",
   "execution_count": null,
   "metadata": {},
   "outputs": [],
   "source": [
    "l =[]\n",
    "for i in  model_serial_number:\n",
    "    l.append(mode_obj.models_initialization_config[i])\n",
    "l"
   ]
  },
  {
   "cell_type": "code",
   "execution_count": null,
   "metadata": {},
   "outputs": [],
   "source": []
  },
  {
   "cell_type": "code",
   "execution_count": null,
   "metadata": {},
   "outputs": [],
   "source": [
    "MODULE_KEY = 'module'\n",
    "mode_obj.models_initialization_config[MODULE_KEY]"
   ]
  },
  {
   "cell_type": "code",
   "execution_count": null,
   "metadata": {},
   "outputs": [],
   "source": [
    "for i in  model_serial_number:\n",
    "    print(mode_obj.models_initialization_config[i])\n",
    "    print(mode_obj.models_initialization_config[MODULE_KEY])\n",
    "    print(mode_obj.models_initialization_config[CLASS_KEY])"
   ]
  },
  {
   "cell_type": "code",
   "execution_count": null,
   "metadata": {},
   "outputs": [],
   "source": [
    "GRID_SEARCH_KEY = 'grid_search'\n",
    "MODULE_KEY = 'module'\n",
    "CLASS_KEY = 'class'\n",
    "PARAM_KEY = 'params'\n",
    "MODEL_SELECTION_KEY = 'model_selection'\n",
    "SEARCH_PARAM_GRID_KEY = \"search_param_grid\"\n"
   ]
  },
  {
   "cell_type": "code",
   "execution_count": null,
   "metadata": {},
   "outputs": [],
   "source": [
    "def class_for_name(module_name:str, class_name:str):\n",
    "        try:\n",
    "            # load the module, will raise ImportError if module cannot be loaded\n",
    "            module = importlib.import_module(module_name)\n",
    "            # get the class, will raise AttributeError if class cannot be found\n",
    "            #logging.info(f\"Executing command: from {module} import {class_name}\")\n",
    "            class_ref = getattr(module, class_name)\n",
    "            return class_ref\n",
    "        except Exception as e:\n",
    "            print(e)\n",
    "for i in  model_serial_number:\n",
    "    print(mode_obj.models_initialization_config[i])\n",
    "    model_obj_ref =class_for_name(module_name=mode_obj.models_initialization_config[MODULE_KEY],\n",
    "                                  class_name=mode_obj.models_initialization_config[CLASS_KEY] )\n",
    "    \n",
    "    #print(model_obj_ref)"
   ]
  },
  {
   "cell_type": "code",
   "execution_count": null,
   "metadata": {},
   "outputs": [],
   "source": []
  },
  {
   "cell_type": "code",
   "execution_count": null,
   "metadata": {},
   "outputs": [],
   "source": []
  },
  {
   "cell_type": "code",
   "execution_count": null,
   "metadata": {},
   "outputs": [],
   "source": []
  },
  {
   "cell_type": "code",
   "execution_count": null,
   "metadata": {},
   "outputs": [],
   "source": [
    "model_initialization_config = models_initialization_config[model_serial_number]"
   ]
  },
  {
   "cell_type": "code",
   "execution_count": null,
   "metadata": {},
   "outputs": [],
   "source": [
    "class ModelFactory:\n",
    "    def __init__(self, model_config_path: str = None,):\n",
    "        try:\n",
    "            self.config: dict = ModelFactory.read_params(model_config_path)\n",
    "\n",
    "            self.grid_search_cv_module: str = self.config[GRID_SEARCH_KEY][MODULE_KEY]\n",
    "            self.grid_search_class_name: str = self.config[GRID_SEARCH_KEY][CLASS_KEY]\n",
    "            self.grid_search_property_data: dict = dict(self.config[GRID_SEARCH_KEY][PARAM_KEY])\n",
    "            self.models_initialization_config: dict = dict(self.config[MODEL_SELECTION_KEY])\n",
    "\n",
    "            self.initialized_model_list = None\n",
    "            self.grid_searched_best_model_list = None\n",
    "\n",
    "        except Exception as e:\n",
    "            print(e)\n",
    "            \n",
    "    @staticmethod\n",
    "    def read_params(config_path: str) -> dict:\n",
    "        try:\n",
    "            with open(config_path) as yaml_file:\n",
    "                config:dict = yaml.safe_load(yaml_file)\n",
    "            return config\n",
    "        except Exception as e:\n",
    "            print(e)\n",
    "            \n",
    "    @staticmethod\n",
    "    def class_for_name(module_name:str, class_name:str):\n",
    "        try:\n",
    "            # load the module, will raise ImportError if module cannot be loaded\n",
    "            module = importlib.import_module(module_name)\n",
    "            # get the class, will raise AttributeError if class cannot be found\n",
    "            #logging.info(f\"Executing command: from {module} import {class_name}\")\n",
    "            class_ref = getattr(module, class_name)\n",
    "            return class_ref\n",
    "        except Exception as e:\n",
    "            print(e)\n",
    "\n",
    "    def get_initialized_model_list(self) -> List[InitializedModelDetail]:\n",
    "            \"\"\"\n",
    "            This function will return a list of model details.\n",
    "            return List[ModelDetail]\n",
    "            \"\"\"\n",
    "            try:\n",
    "                initialized_model_list = []\n",
    "                for model_serial_number in self.models_initialization_config.keys():\n",
    "\n",
    "                    model_initialization_config = self.models_initialization_config[model_serial_number]\n",
    "                    print(model_initialization_config)\n",
    "                    model_obj_ref = ModelFactory.class_for_name(module_name=model_initialization_config[MODULE_KEY],\n",
    "                                                                class_name=model_initialization_config[CLASS_KEY]\n",
    "                                                                )\n",
    "                    model = model_obj_ref()\n",
    "                    \n",
    "                    if PARAM_KEY in model_initialization_config:\n",
    "                        model_obj_property_data = dict(model_initialization_config[PARAM_KEY])\n",
    "                        model = ModelFactory.update_property_of_class(instance_ref=model,\n",
    "                                                                    property_data=model_obj_property_data)\n",
    "\n",
    "                    param_grid_search = model_initialization_config[SEARCH_PARAM_GRID_KEY]\n",
    "                    model_name = f\"{model_initialization_config[MODULE_KEY]}.{model_initialization_config[CLASS_KEY]}\"\n",
    "\n",
    "                    model_initialization_config = InitializedModelDetail(model_serial_number=model_serial_number,\n",
    "                                                                        model=model,\n",
    "                                                                        param_grid_search=param_grid_search,\n",
    "                                                                        model_name=model_name\n",
    "                                                                        )\n",
    "\n",
    "                    initialized_model_list.append(model_initialization_config)\n",
    "\n",
    "                self.initialized_model_list = initialized_model_list\n",
    "                return self.initialized_model_list\n",
    "            except Exception as e:\n",
    "                print(e)\n",
    "\n",
    "    def get_best_model(self, X, y,base_accuracy=0.6) -> BestModel:\n",
    "        try:\n",
    "            \n",
    "            initialized_model_list = self.get_initialized_model_list()\n",
    "\n",
    "            grid_searched_best_model_list = self.initiate_best_parameter_search_for_initialized_models(\n",
    "                initialized_model_list=initialized_model_list,\n",
    "                input_feature=X,\n",
    "                output_feature=y\n",
    "            )\n",
    "            return ModelFactory.get_best_model_from_grid_searched_best_model_list(grid_searched_best_model_list,\n",
    "                                                                                  base_accuracy=base_accuracy)\n",
    "        except Exception as e:\n",
    "            print(e)"
   ]
  },
  {
   "cell_type": "code",
   "execution_count": null,
   "metadata": {},
   "outputs": [],
   "source": [
    "model_config_path = r\"C:\\Users\\gajula Amar\\python_ALL_projects\\ML_AVNISH_PROJECT_TRAIN\\ML_end_to_end_Project_Creation\\notebook\\config\\model.yaml\"\n",
    "mode_obj = ModelFactory(model_config_path=model_config_path)"
   ]
  },
  {
   "cell_type": "code",
   "execution_count": null,
   "metadata": {},
   "outputs": [],
   "source": [
    "model=mode_obj.get_best_model(X=x,y=y)"
   ]
  },
  {
   "cell_type": "code",
   "execution_count": null,
   "metadata": {},
   "outputs": [],
   "source": [
    "model."
   ]
  },
  {
   "cell_type": "code",
   "execution_count": null,
   "metadata": {},
   "outputs": [],
   "source": []
  },
  {
   "cell_type": "code",
   "execution_count": null,
   "metadata": {},
   "outputs": [],
   "source": [
    "train_df = r\"C:\\Users\\gajula Amar\\python_ALL_projects\\ML_AVNISH_PROJECT_TRAIN\\ML_end_to_end_Project_Creation\\housing\\housing.npz\""
   ]
  },
  {
   "cell_type": "code",
   "execution_count": null,
   "metadata": {},
   "outputs": [],
   "source": [
    "def load_numpy_array_data(file_path: str) -> np.array:\n",
    "    \"\"\"\n",
    "    load numpy array data from file\n",
    "    file_path: str location of file to load\n",
    "    return: np.array data loaded\n",
    "    \"\"\"\n",
    "    try:\n",
    "        with open(file_path, 'rb') as file_obj:\n",
    "            return np.load(file_obj)\n",
    "    except Exception as e:\n",
    "        print(e)"
   ]
  },
  {
   "cell_type": "code",
   "execution_count": null,
   "metadata": {},
   "outputs": [],
   "source": [
    "df = load_numpy_array_data(file_path=train_df)"
   ]
  },
  {
   "cell_type": "code",
   "execution_count": null,
   "metadata": {},
   "outputs": [],
   "source": [
    "x,y = df[:,:-1],df[:,-1]"
   ]
  },
  {
   "cell_type": "code",
   "execution_count": null,
   "metadata": {},
   "outputs": [],
   "source": [
    "x"
   ]
  },
  {
   "cell_type": "code",
   "execution_count": null,
   "metadata": {},
   "outputs": [],
   "source": [
    "y"
   ]
  },
  {
   "cell_type": "code",
   "execution_count": null,
   "metadata": {},
   "outputs": [],
   "source": []
  },
  {
   "cell_type": "code",
   "execution_count": null,
   "metadata": {},
   "outputs": [],
   "source": [
    "import pandas as pd"
   ]
  },
  {
   "cell_type": "code",
   "execution_count": null,
   "metadata": {},
   "outputs": [],
   "source": []
  },
  {
   "cell_type": "code",
   "execution_count": null,
   "metadata": {},
   "outputs": [],
   "source": []
  },
  {
   "cell_type": "code",
   "execution_count": null,
   "metadata": {},
   "outputs": [],
   "source": [
    "dd ={'grid_search': {'class': 'GridSearchCV',\n",
    "  'module': 'sklearn.model_selection',\n",
    "  'params': {'cv': 5, 'verbose': 2}},\n",
    " 'model_selection': {'module_0': {'class': 'LinearRegression',\n",
    "   'module': 'sklearn.linear_model',\n",
    "   'params': {'fit_intercept': True},\n",
    "   'search_param_grid': {'fit_intercept': [True, False]}},\n",
    "  'module_1': {'class': 'RandomForestRegressor',\n",
    "   'module': 'sklearn.ensemble',\n",
    "   'params': {'n_estimators': 40, 'min_samples_leaf': 3},\n",
    "   'search_param_grid': {'min_samples_leaf': [2, 4, 6],\n",
    "    'n_estimators': [50, 100, 80]}}}}"
   ]
  },
  {
   "cell_type": "code",
   "execution_count": null,
   "metadata": {},
   "outputs": [],
   "source": [
    "dd['model_selection']"
   ]
  },
  {
   "cell_type": "code",
   "execution_count": null,
   "metadata": {},
   "outputs": [],
   "source": [
    "mode_obj.initialized_model_list"
   ]
  },
  {
   "cell_type": "code",
   "execution_count": null,
   "metadata": {},
   "outputs": [],
   "source": []
  },
  {
   "cell_type": "code",
   "execution_count": null,
   "metadata": {},
   "outputs": [],
   "source": []
  },
  {
   "cell_type": "code",
   "execution_count": null,
   "metadata": {},
   "outputs": [],
   "source": [
    "pwd"
   ]
  },
  {
   "cell_type": "code",
   "execution_count": null,
   "metadata": {},
   "outputs": [],
   "source": [
    "GRID_SEARCH_KEY = 'grid_search'\n",
    "MODULE_KEY = 'module'\n",
    "CLASS_KEY = 'class'\n",
    "PARAM_KEY = 'params'\n",
    "MODEL_SELECTION_KEY = 'model_selection'\n",
    "SEARCH_PARAM_GRID_KEY = \"search_param_grid\"\n",
    "\n",
    "def get_sample_model_config_yaml_file(export_dir: str):\n",
    "    try:\n",
    "        model_config = {\n",
    "            GRID_SEARCH_KEY: {\n",
    "                MODULE_KEY: \"sklearn.model_selection\",\n",
    "                CLASS_KEY: \"GridSearchCV\",\n",
    "                PARAM_KEY: {\n",
    "                    \"cv\": 3,\n",
    "                    \"verbose\": 1\n",
    "                }\n",
    "\n",
    "            },\n",
    "            MODEL_SELECTION_KEY: {\n",
    "                \"module_0\": {\n",
    "                    MODULE_KEY: \"module_of_model\",\n",
    "                    CLASS_KEY: \"ModelClassName\",\n",
    "                    PARAM_KEY:\n",
    "                        {\"param_name1\": \"value1\",\n",
    "                         \"param_name2\": \"value2\",\n",
    "                         },\n",
    "                    SEARCH_PARAM_GRID_KEY: {\n",
    "                        \"param_name\": ['param_value_1', 'param_value_2']\n",
    "                    }\n",
    "\n",
    "                },\n",
    "            }\n",
    "        }\n",
    "        os.makedirs(export_dir, exist_ok=True)\n",
    "        export_file_path = os.path.join(export_dir, \"model.yaml\")\n",
    "        with open(export_file_path, 'w') as file:\n",
    "            yaml.dump(model_config, file)\n",
    "        return export_file_path\n",
    "    except Exception as e:\n",
    "        print(e)"
   ]
  },
  {
   "cell_type": "code",
   "execution_count": null,
   "metadata": {},
   "outputs": [],
   "source": [
    "get_sample_model_config_yaml_file(export_dir=\"config\")"
   ]
  },
  {
   "cell_type": "code",
   "execution_count": null,
   "metadata": {},
   "outputs": [],
   "source": [
    "class ModelFactory:\n",
    "    def __init__(self, model_config_path: str = None,):\n",
    "        try:\n",
    "            self.config: dict = ModelFactory.read_params(model_config_path)\n",
    "\n",
    "            self.grid_search_cv_module: str = self.config[GRID_SEARCH_KEY][MODULE_KEY]\n",
    "            self.grid_search_class_name: str = self.config[GRID_SEARCH_KEY][CLASS_KEY]\n",
    "            self.grid_search_property_data: dict = dict(self.config[GRID_SEARCH_KEY][PARAM_KEY])\n",
    "\n",
    "            self.models_initialization_config: dict = dict(self.config[MODEL_SELECTION_KEY])\n",
    "\n",
    "            self.initialized_model_list = None\n",
    "            self.grid_searched_best_model_list = None\n",
    "\n",
    "        except Exception as e:\n",
    "            print(e)"
   ]
  },
  {
   "cell_type": "code",
   "execution_count": null,
   "metadata": {},
   "outputs": [],
   "source": [
    "mode_obj = ModelFactory(model_config_path=model_config_path)"
   ]
  },
  {
   "cell_type": "code",
   "execution_count": null,
   "metadata": {},
   "outputs": [],
   "source": []
  }
 ],
 "metadata": {
  "kernelspec": {
   "display_name": "Python 3",
   "language": "python",
   "name": "python3"
  },
  "language_info": {
   "codemirror_mode": {
    "name": "ipython",
    "version": 3
   },
   "file_extension": ".py",
   "mimetype": "text/x-python",
   "name": "python",
   "nbconvert_exporter": "python",
   "pygments_lexer": "ipython3",
   "version": "3.7.0"
  },
  "orig_nbformat": 4
 },
 "nbformat": 4,
 "nbformat_minor": 2
}
